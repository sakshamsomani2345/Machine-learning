{
 "cells": [
  {
   "cell_type": "code",
   "execution_count": null,
   "id": "c7b10780",
   "metadata": {},
   "outputs": [],
   "source": [
    "import numpy as np\n",
    "import pandas as pd"
   ]
  },
  {
   "cell_type": "code",
   "execution_count": null,
   "id": "8b3b22f8",
   "metadata": {},
   "outputs": [],
   "source": [
    "data=pd.read_csv(\"train.csv\")\n",
    "data.head(n=10)"
   ]
  },
  {
   "cell_type": "code",
   "execution_count": null,
   "id": "b23aeb53",
   "metadata": {},
   "outputs": [],
   "source": [
    "data.info()"
   ]
  },
  {
   "cell_type": "code",
   "execution_count": null,
   "id": "75ca0aa7",
   "metadata": {},
   "outputs": [],
   "source": [
    "columns_to_drop=[\"PassengerId\",\"Embarked\",\"Name\",\"Ticket\",\"Cabin\"]"
   ]
  },
  {
   "cell_type": "code",
   "execution_count": null,
   "id": "87ca7ba0",
   "metadata": {},
   "outputs": [],
   "source": [
    "data_clean=data.drop(columns_to_drop,axis=1)"
   ]
  },
  {
   "cell_type": "code",
   "execution_count": null,
   "id": "8f78af63",
   "metadata": {},
   "outputs": [],
   "source": [
    "data_clean"
   ]
  },
  {
   "cell_type": "code",
   "execution_count": null,
   "id": "e897697c",
   "metadata": {},
   "outputs": [],
   "source": [
    "from sklearn.preprocessing import LabelEncoder"
   ]
  },
  {
   "cell_type": "code",
   "execution_count": null,
   "id": "6d72ed0f",
   "metadata": {},
   "outputs": [],
   "source": [
    "le=LabelEncoder()"
   ]
  },
  {
   "cell_type": "code",
   "execution_count": null,
   "id": "fd91bf6c",
   "metadata": {},
   "outputs": [],
   "source": [
    "data_clean[\"Sex\"]=le.fit_transform(data_clean[\"Sex\"])"
   ]
  },
  {
   "cell_type": "code",
   "execution_count": null,
   "id": "23820e52",
   "metadata": {},
   "outputs": [],
   "source": [
    "data_clean.info()"
   ]
  },
  {
   "cell_type": "code",
   "execution_count": null,
   "id": "2cb4c8d5",
   "metadata": {},
   "outputs": [],
   "source": [
    "data_clean=data_clean.fillna(data_clean[\"Age\"].mean())"
   ]
  },
  {
   "cell_type": "code",
   "execution_count": null,
   "id": "969f206c",
   "metadata": {},
   "outputs": [],
   "source": [
    "data_clean.info()"
   ]
  },
  {
   "cell_type": "code",
   "execution_count": null,
   "id": "87c42008",
   "metadata": {},
   "outputs": [],
   "source": [
    "input_cols=[\"Pclass\",\"Sex\",\"Age\",\"SibSp\",\"Parch\",\"Fare\"]"
   ]
  },
  {
   "cell_type": "code",
   "execution_count": null,
   "id": "b01e44e0",
   "metadata": {},
   "outputs": [],
   "source": [
    "output_cols=[\"Survived\"]"
   ]
  },
  {
   "cell_type": "code",
   "execution_count": null,
   "id": "12dcf4ee",
   "metadata": {},
   "outputs": [],
   "source": [
    "X=data_clean[input_cols]"
   ]
  },
  {
   "cell_type": "code",
   "execution_count": null,
   "id": "9f82f05f",
   "metadata": {},
   "outputs": [],
   "source": [
    "Y=data_clean[output_cols]"
   ]
  },
  {
   "cell_type": "code",
   "execution_count": null,
   "id": "d1800f1c",
   "metadata": {},
   "outputs": [],
   "source": [
    "print(X.shape)"
   ]
  },
  {
   "cell_type": "code",
   "execution_count": null,
   "id": "cf08d77c",
   "metadata": {},
   "outputs": [],
   "source": [
    "def entropy(col):\n",
    "    counts=np.unique(col,return_counts=True)\n",
    "#     print(counts)\n",
    "    N=float(col.shape[0])\n",
    "    ent=0.0\n",
    "    for i in counts[1]:\n",
    "        p=i/N\n",
    "        ent+=(-1.0*p*np.log2(p))\n",
    "        \n",
    "    return ent;\n",
    "     "
   ]
  },
  {
   "cell_type": "code",
   "execution_count": null,
   "id": "11d59b0f",
   "metadata": {},
   "outputs": [],
   "source": [
    "col=np.array([1,1,1,1,0,1,0])"
   ]
  },
  {
   "cell_type": "code",
   "execution_count": null,
   "id": "571bbc52",
   "metadata": {},
   "outputs": [],
   "source": [
    "entropy(col)"
   ]
  },
  {
   "cell_type": "code",
   "execution_count": null,
   "id": "1c66022c",
   "metadata": {},
   "outputs": [],
   "source": [
    "def divide_data(x_data,fkey,fval):\n",
    "    x_right=pd.DataFrame([],columns=x_data.columns)\n",
    "    x_left=pd.DataFrame([],columns=x_data.columns)   \n",
    "#             x_left=pd.concat([x_left,x_data.loc[i]])\n",
    "#             x_right=x_right.append(x_data.loc[i])   \n",
    "#               \n",
    "    \n",
    "    for i in range(x_data.shape[0]):\n",
    "        val=x_data[fkey].loc[i]\n",
    "        \n",
    "        if val>fval:\n",
    "            x_right=pd.concat([x_right,x_data.loc[i]])  \n",
    "        else:\n",
    "            x_left=pd.concat([x_left,x_data.loc[i]])\n",
    "            \n",
    "            \n",
    "                              \n",
    "            \n",
    "    return x_right,x_left;"
   ]
  },
  {
   "cell_type": "code",
   "execution_count": null,
   "id": "abe40e97",
   "metadata": {},
   "outputs": [],
   "source": [
    "x_left,x_right=divide_data(data_clean[:10],\"Sex\",0.5)\n",
    "print(x_right)"
   ]
  },
  {
   "cell_type": "code",
   "execution_count": null,
   "id": "e1b8ac78",
   "metadata": {},
   "outputs": [],
   "source": [
    "def information_gain(x_data,fkey,fval):\n",
    "    left,right=divide_data(x_data,fkey,fval)\n",
    "    l=float(left.shape[0])/x_data.shape[0]\n",
    "    r=float(right.shape[0])/x_data.shape[0]\n",
    "    \n",
    "    if left.shape[0]==0 or right.shape[0]==0:\n",
    "        return -1000000\n",
    "    i_gain=entropy(x_data.Survived)-(l*entropy(left.Survived)+r*entropy(right.Survived))\n",
    "    return i_gain\n",
    "    \n",
    "    "
   ]
  },
  {
   "cell_type": "code",
   "execution_count": null,
   "id": "62f16804",
   "metadata": {},
   "outputs": [],
   "source": [
    "# for f in X.columns:\n",
    "#     print(f)\n",
    "#     print(information_gain(data_clean,f,data_clean[f].mean()))"
   ]
  },
  {
   "cell_type": "code",
   "execution_count": null,
   "id": "9f58db5a",
   "metadata": {},
   "outputs": [],
   "source": [
    "class DecisionTree:\n",
    "    \n",
    "    \n",
    "    def __init__(self,depth=0,max_depth=5):\n",
    "        self.left=None\n",
    "        self.right=None\n",
    "        self.fkey=None\n",
    "        self.fval=None\n",
    "        self.max_depth=max_depth\n",
    "        self.depth=depth\n",
    "        self.target=None\n",
    "        \n",
    "    def train(self,X_train):\n",
    "        features=[\"Pclass\",\"Sex\",\"Age\",\"SibSp\",\"Parch\",\"Fare\"]     \n",
    "        info_gains=[]\n",
    "        for i in features:\n",
    "            i_gain=information_gain(X_train,i,X_train[i].mean())\n",
    "            info_gains.append(i_gain)\n",
    "            \n",
    "        self.fkey=features[np.argmax(info_gains)]\n",
    "        self.fval=X_train[self.fkey].mean()\n",
    "        print(self.fkey)\n",
    "        \n",
    "        \n",
    "        data_left,data_right=divide_data(X_train,self.fkey,self.fval)\n",
    "        data_left=data_left.reset_index(drop=True)\n",
    "        data_right=data_right.reset_index(drop=True)\n",
    "        \n",
    "        if data_left.shape[0]==0 or data_right.shape[0]==0:\n",
    "            if X_train.Survived.mean()>=0.5:\n",
    "                self.target=\"Survive\"\n",
    "            else:\n",
    "                self.target=\"Dead\"\n",
    "            return\n",
    "        if(self.depth>=self.max_depth):\n",
    "            if X_train.Survived.mean()>=0.5:\n",
    "                self.target=\"Survive\"\n",
    "            else:\n",
    "                self.target=\"Dead\"\n",
    "            return\n",
    "        self.left=DecisionTree(depth=self.depth+1,max_depth=self.max_depth)\n",
    "        self.left.train(data_left)\n",
    "        \n",
    "        self.right=DecisionTree(depth=self.depth+1,max_depth=self.max_depth)\n",
    "        self.right.train(data_right)\n",
    "        \n",
    "        if X_train.Survived.mean()>=0.5:\n",
    "            if X_train.Survived.mean()>=0.5:\n",
    "                self.target=\"Survive\"\n",
    "            else:\n",
    "                self.target=\"Dead\"\n",
    "            return\n",
    "            \n",
    "            \n",
    "    def predict(self,test):\n",
    "        if test[self.fkey]>self.fval:\n",
    "            if self.right in None:\n",
    "                return self.target\n",
    "            return self.right.predict(test)\n",
    "        else:\n",
    "            if self.left is None:\n",
    "                return self.target\n",
    "            return self.left.predict(test)\n",
    "    \n",
    "    \n",
    "        \n",
    "    \n",
    "        \n",
    "    "
   ]
  },
  {
   "cell_type": "code",
   "execution_count": null,
   "id": "9a0866fe",
   "metadata": {},
   "outputs": [],
   "source": [
    "d=DecisionTree()"
   ]
  },
  {
   "cell_type": "code",
   "execution_count": null,
   "id": "bfd49678",
   "metadata": {},
   "outputs": [],
   "source": [
    "d.train(data_clean)"
   ]
  },
  {
   "cell_type": "code",
   "execution_count": null,
   "id": "21fc40ea",
   "metadata": {},
   "outputs": [],
   "source": [
    "split=int(0.7*data_clean.shape[0])\n",
    "train_data=data_clean[:split]\n",
    "test_data=data_clean[split:]\n",
    "test_data=test_data.reset_index(drop=True)\n",
    "print(train_data.shape)"
   ]
  },
  {
   "cell_type": "code",
   "execution_count": null,
   "id": "11539e95",
   "metadata": {},
   "outputs": [],
   "source": [
    "dt=DecisionTree()"
   ]
  },
  {
   "cell_type": "code",
   "execution_count": null,
   "id": "17c037fb",
   "metadata": {},
   "outputs": [],
   "source": [
    "dt.train(train_data)"
   ]
  },
  {
   "cell_type": "code",
   "execution_count": null,
   "id": "33f7f155",
   "metadata": {},
   "outputs": [],
   "source": [
    "print(dt.fkey)\n",
    "print(dt.fval)\n",
    "print(dt.left.fkey)\n",
    "print(dt.right.fkey)\n",
    "\n",
    "    "
   ]
  },
  {
   "cell_type": "code",
   "execution_count": null,
   "id": "11cf3942",
   "metadata": {},
   "outputs": [],
   "source": []
  },
  {
   "cell_type": "code",
   "execution_count": null,
   "id": "0de2c2d0",
   "metadata": {},
   "outputs": [],
   "source": []
  }
 ],
 "metadata": {
  "kernelspec": {
   "display_name": "Python 3 (ipykernel)",
   "language": "python",
   "name": "python3"
  },
  "language_info": {
   "codemirror_mode": {
    "name": "ipython",
    "version": 3
   },
   "file_extension": ".py",
   "mimetype": "text/x-python",
   "name": "python",
   "nbconvert_exporter": "python",
   "pygments_lexer": "ipython3",
   "version": "3.11.1"
  }
 },
 "nbformat": 4,
 "nbformat_minor": 5
}
