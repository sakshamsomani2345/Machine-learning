{
 "cells": [
  {
   "cell_type": "code",
   "execution_count": 140,
   "id": "8ac8141e",
   "metadata": {},
   "outputs": [],
   "source": [
    "import numpy as np"
   ]
  },
  {
   "cell_type": "code",
   "execution_count": 141,
   "id": "92fa8709",
   "metadata": {},
   "outputs": [],
   "source": [
    "a=np.array([1,2,3,4])"
   ]
  },
  {
   "cell_type": "code",
   "execution_count": 142,
   "id": "8c888949",
   "metadata": {},
   "outputs": [
    {
     "name": "stdout",
     "output_type": "stream",
     "text": [
      "[1 2 3 4]\n"
     ]
    }
   ],
   "source": [
    "print(a)"
   ]
  },
  {
   "cell_type": "code",
   "execution_count": 143,
   "id": "b2b4df0d",
   "metadata": {},
   "outputs": [
    {
     "name": "stdout",
     "output_type": "stream",
     "text": [
      "<class 'numpy.ndarray'>\n"
     ]
    }
   ],
   "source": [
    "print(type(a))"
   ]
  },
  {
   "cell_type": "code",
   "execution_count": 144,
   "id": "0667f157",
   "metadata": {},
   "outputs": [
    {
     "name": "stdout",
     "output_type": "stream",
     "text": [
      "(4,)\n"
     ]
    }
   ],
   "source": [
    "print(a.shape)"
   ]
  },
  {
   "cell_type": "code",
   "execution_count": 145,
   "id": "3d26d45e",
   "metadata": {},
   "outputs": [],
   "source": [
    "b=np.array([[1],[2],[3],[4]])"
   ]
  },
  {
   "cell_type": "code",
   "execution_count": 146,
   "id": "b5241f5f",
   "metadata": {},
   "outputs": [
    {
     "name": "stdout",
     "output_type": "stream",
     "text": [
      "[[1]\n",
      " [2]\n",
      " [3]\n",
      " [4]]\n"
     ]
    }
   ],
   "source": [
    "print(b)"
   ]
  },
  {
   "cell_type": "code",
   "execution_count": 147,
   "id": "2b6a6756",
   "metadata": {},
   "outputs": [
    {
     "name": "stdout",
     "output_type": "stream",
     "text": [
      "(4, 1)\n"
     ]
    }
   ],
   "source": [
    "print(b.shape)"
   ]
  },
  {
   "cell_type": "code",
   "execution_count": 148,
   "id": "e84e892d",
   "metadata": {},
   "outputs": [
    {
     "name": "stdout",
     "output_type": "stream",
     "text": [
      "2\n"
     ]
    }
   ],
   "source": [
    "print(b[1][0])"
   ]
  },
  {
   "cell_type": "code",
   "execution_count": 149,
   "id": "001b7634",
   "metadata": {},
   "outputs": [],
   "source": [
    "c=np.array([[1,2,3],[4,5,6]])"
   ]
  },
  {
   "cell_type": "code",
   "execution_count": 150,
   "id": "252ffb9d",
   "metadata": {},
   "outputs": [
    {
     "name": "stdout",
     "output_type": "stream",
     "text": [
      "[[1 2 3]\n",
      " [4 5 6]]\n"
     ]
    }
   ],
   "source": [
    "print(c)"
   ]
  },
  {
   "cell_type": "code",
   "execution_count": 151,
   "id": "81fee857",
   "metadata": {},
   "outputs": [
    {
     "name": "stdout",
     "output_type": "stream",
     "text": [
      "(2, 3)\n"
     ]
    }
   ],
   "source": [
    "print(c.shape)"
   ]
  },
  {
   "cell_type": "code",
   "execution_count": 152,
   "id": "c6aa831c",
   "metadata": {},
   "outputs": [],
   "source": [
    "a=np.zeros((3,3))\n",
    "b=np.ones((2,3))"
   ]
  },
  {
   "cell_type": "code",
   "execution_count": 153,
   "id": "4d7cac00",
   "metadata": {},
   "outputs": [
    {
     "name": "stdout",
     "output_type": "stream",
     "text": [
      "[[0. 0. 0.]\n",
      " [0. 0. 0.]\n",
      " [0. 0. 0.]]\n",
      "[[1. 1. 1.]\n",
      " [1. 1. 1.]]\n"
     ]
    }
   ],
   "source": [
    "print(a)\n",
    "print(b)"
   ]
  },
  {
   "cell_type": "code",
   "execution_count": 154,
   "id": "e0c6f343",
   "metadata": {},
   "outputs": [],
   "source": [
    "c=np.full((3,2),5)"
   ]
  },
  {
   "cell_type": "code",
   "execution_count": 155,
   "id": "0bff91bb",
   "metadata": {},
   "outputs": [
    {
     "name": "stdout",
     "output_type": "stream",
     "text": [
      "[[5 5]\n",
      " [5 5]\n",
      " [5 5]]\n"
     ]
    }
   ],
   "source": [
    "print(c)"
   ]
  },
  {
   "cell_type": "code",
   "execution_count": 156,
   "id": "0f6c3cfd",
   "metadata": {},
   "outputs": [],
   "source": [
    "#identity matrix\n",
    "d=np.eye(4)"
   ]
  },
  {
   "cell_type": "code",
   "execution_count": 157,
   "id": "550eac66",
   "metadata": {},
   "outputs": [
    {
     "name": "stdout",
     "output_type": "stream",
     "text": [
      "[[1. 0. 0. 0.]\n",
      " [0. 1. 0. 0.]\n",
      " [0. 0. 1. 0.]\n",
      " [0. 0. 0. 1.]]\n"
     ]
    }
   ],
   "source": [
    "print(d)"
   ]
  },
  {
   "cell_type": "code",
   "execution_count": 158,
   "id": "1723960f",
   "metadata": {},
   "outputs": [],
   "source": [
    "#random matrix"
   ]
  },
  {
   "cell_type": "code",
   "execution_count": 159,
   "id": "54dd4fef",
   "metadata": {},
   "outputs": [],
   "source": [
    "randommatrix=np.random.random((2,3))"
   ]
  },
  {
   "cell_type": "code",
   "execution_count": 160,
   "id": "8935e8c0",
   "metadata": {},
   "outputs": [
    {
     "name": "stdout",
     "output_type": "stream",
     "text": [
      "[[0.04807384 0.65820799 0.94763042]\n",
      " [0.46334459 0.51305278 0.99012209]]\n"
     ]
    }
   ],
   "source": [
    "print(randommatrix)"
   ]
  },
  {
   "cell_type": "code",
   "execution_count": 161,
   "id": "8e888c1d",
   "metadata": {},
   "outputs": [
    {
     "name": "stdout",
     "output_type": "stream",
     "text": [
      "[0.65820799 0.51305278]\n"
     ]
    }
   ],
   "source": [
    "print(randommatrix[:,1])"
   ]
  },
  {
   "cell_type": "code",
   "execution_count": 162,
   "id": "f147923c",
   "metadata": {},
   "outputs": [],
   "source": [
    "randommatrix[1,1:]=1"
   ]
  },
  {
   "cell_type": "code",
   "execution_count": 163,
   "id": "5fdcad54",
   "metadata": {},
   "outputs": [
    {
     "name": "stdout",
     "output_type": "stream",
     "text": [
      "[[0.04807384 0.65820799 0.94763042]\n",
      " [0.46334459 1.         1.        ]]\n"
     ]
    }
   ],
   "source": [
    "print(randommatrix)"
   ]
  },
  {
   "cell_type": "code",
   "execution_count": 164,
   "id": "31dbf007",
   "metadata": {},
   "outputs": [],
   "source": [
    "# set some rows and columns with any values"
   ]
  },
  {
   "cell_type": "code",
   "execution_count": 165,
   "id": "83bea7ee",
   "metadata": {},
   "outputs": [
    {
     "name": "stdout",
     "output_type": "stream",
     "text": [
      "[[0 0 0]\n",
      " [0 0 0]\n",
      " [0 0 0]]\n"
     ]
    }
   ],
   "source": [
    "z=np.zeros((3,3),dtype=np.int64)\n",
    "print(z)"
   ]
  },
  {
   "cell_type": "code",
   "execution_count": 166,
   "id": "6bf73278",
   "metadata": {},
   "outputs": [],
   "source": [
    "z[1,:]=5"
   ]
  },
  {
   "cell_type": "code",
   "execution_count": 167,
   "id": "70a013fe",
   "metadata": {},
   "outputs": [
    {
     "name": "stdout",
     "output_type": "stream",
     "text": [
      "[[0 0 7]\n",
      " [5 5 7]\n",
      " [0 0 7]]\n"
     ]
    }
   ],
   "source": [
    "z[:,-1]=7\n",
    "print(z)"
   ]
  },
  {
   "cell_type": "code",
   "execution_count": 168,
   "id": "0242da65",
   "metadata": {},
   "outputs": [
    {
     "name": "stdout",
     "output_type": "stream",
     "text": [
      "int64\n"
     ]
    }
   ],
   "source": [
    "#datatypes\n",
    "print(z.dtype)"
   ]
  },
  {
   "cell_type": "code",
   "execution_count": 169,
   "id": "d9718370",
   "metadata": {},
   "outputs": [],
   "source": [
    "#mathemtaical operations"
   ]
  },
  {
   "cell_type": "code",
   "execution_count": 170,
   "id": "8c228f14",
   "metadata": {},
   "outputs": [],
   "source": [
    "x=np.array([[1,2],[3,4]])"
   ]
  },
  {
   "cell_type": "code",
   "execution_count": 171,
   "id": "9a7b9eda",
   "metadata": {},
   "outputs": [],
   "source": [
    "y=np.array([[5,6],[7,8]])"
   ]
  },
  {
   "cell_type": "code",
   "execution_count": 172,
   "id": "e621d381",
   "metadata": {},
   "outputs": [
    {
     "name": "stdout",
     "output_type": "stream",
     "text": [
      "[[ 6  8]\n",
      " [10 12]]\n",
      "[[ 6  8]\n",
      " [10 12]]\n",
      "[[ 5 12]\n",
      " [21 32]]\n"
     ]
    }
   ],
   "source": [
    "print(x+y)\n",
    "print(np.add(x,y))\n",
    "print(x*y)"
   ]
  },
  {
   "cell_type": "code",
   "execution_count": 173,
   "id": "2d0fa9fa",
   "metadata": {},
   "outputs": [
    {
     "name": "stdout",
     "output_type": "stream",
     "text": [
      "[[-4 -4]\n",
      " [-4 -4]]\n"
     ]
    }
   ],
   "source": [
    "\n",
    "print(np.subtract(x,y))"
   ]
  },
  {
   "cell_type": "code",
   "execution_count": 174,
   "id": "508a706d",
   "metadata": {},
   "outputs": [
    {
     "name": "stdout",
     "output_type": "stream",
     "text": [
      "[[0.2        0.33333333]\n",
      " [0.42857143 0.5       ]]\n"
     ]
    }
   ],
   "source": [
    "print(x/y)"
   ]
  },
  {
   "cell_type": "code",
   "execution_count": 175,
   "id": "c02bd078",
   "metadata": {},
   "outputs": [],
   "source": [
    "#matrix multiplication/dot product"
   ]
  },
  {
   "cell_type": "code",
   "execution_count": 176,
   "id": "fe59a461",
   "metadata": {},
   "outputs": [
    {
     "name": "stdout",
     "output_type": "stream",
     "text": [
      "[[1 2]\n",
      " [3 4]]\n"
     ]
    }
   ],
   "source": [
    "print(x)"
   ]
  },
  {
   "cell_type": "code",
   "execution_count": 177,
   "id": "de1f4aab",
   "metadata": {},
   "outputs": [
    {
     "name": "stdout",
     "output_type": "stream",
     "text": [
      "[[5 6]\n",
      " [7 8]]\n"
     ]
    }
   ],
   "source": [
    "print(y)"
   ]
  },
  {
   "cell_type": "code",
   "execution_count": 178,
   "id": "59a007ea",
   "metadata": {},
   "outputs": [
    {
     "name": "stdout",
     "output_type": "stream",
     "text": [
      "[[19 22]\n",
      " [43 50]]\n"
     ]
    }
   ],
   "source": [
    "print(x.dot(y))"
   ]
  },
  {
   "cell_type": "code",
   "execution_count": 179,
   "id": "2d98941a",
   "metadata": {},
   "outputs": [],
   "source": [
    "#dot prudict of vectoers"
   ]
  },
  {
   "cell_type": "code",
   "execution_count": 180,
   "id": "b4827cd6",
   "metadata": {},
   "outputs": [
    {
     "name": "stdout",
     "output_type": "stream",
     "text": [
      "30\n"
     ]
    }
   ],
   "source": [
    "a=np.array([1,2,3,4])\n",
    "b=np.array([1,2,3,4])\n",
    "print(a.dot(b))"
   ]
  },
  {
   "cell_type": "code",
   "execution_count": 181,
   "id": "9d13ba33",
   "metadata": {},
   "outputs": [
    {
     "name": "stdout",
     "output_type": "stream",
     "text": [
      "10\n"
     ]
    }
   ],
   "source": [
    "print(sum(a))"
   ]
  },
  {
   "cell_type": "code",
   "execution_count": 182,
   "id": "54d1ed9e",
   "metadata": {},
   "outputs": [
    {
     "name": "stdout",
     "output_type": "stream",
     "text": [
      "[4 6]\n"
     ]
    }
   ],
   "source": [
    "print(np.sum(x,axis=0))"
   ]
  },
  {
   "cell_type": "code",
   "execution_count": 183,
   "id": "18227690",
   "metadata": {},
   "outputs": [
    {
     "name": "stdout",
     "output_type": "stream",
     "text": [
      "[ 1  4  9 16]\n"
     ]
    }
   ],
   "source": [
    "b=b**2\n",
    "print(b)"
   ]
  },
  {
   "cell_type": "code",
   "execution_count": 184,
   "id": "c05c2641",
   "metadata": {},
   "outputs": [
    {
     "data": {
      "text/plain": [
       "array([[ 1,  1],\n",
       "       [ 2,  4],\n",
       "       [ 3,  9],\n",
       "       [ 4, 16]])"
      ]
     },
     "execution_count": 184,
     "metadata": {},
     "output_type": "execute_result"
    }
   ],
   "source": [
    "np.stack((a,b),axis=1)"
   ]
  },
  {
   "cell_type": "code",
   "execution_count": 185,
   "id": "88b4b130",
   "metadata": {},
   "outputs": [],
   "source": [
    "a=np.stack((a,b),axis=0)"
   ]
  },
  {
   "cell_type": "code",
   "execution_count": 186,
   "id": "2c5bb981",
   "metadata": {},
   "outputs": [],
   "source": [
    "#reshape"
   ]
  },
  {
   "cell_type": "code",
   "execution_count": 187,
   "id": "5f3fc4a6",
   "metadata": {},
   "outputs": [
    {
     "name": "stdout",
     "output_type": "stream",
     "text": [
      "[[ 1  2  3  4]\n",
      " [ 1  4  9 16]]\n"
     ]
    }
   ],
   "source": [
    "print(a)"
   ]
  },
  {
   "cell_type": "code",
   "execution_count": 188,
   "id": "0af9d734",
   "metadata": {},
   "outputs": [],
   "source": [
    "a=a.reshape((4,2))"
   ]
  },
  {
   "cell_type": "code",
   "execution_count": 189,
   "id": "63467003",
   "metadata": {},
   "outputs": [
    {
     "name": "stdout",
     "output_type": "stream",
     "text": [
      "[[ 1  2]\n",
      " [ 3  4]\n",
      " [ 1  4]\n",
      " [ 9 16]]\n"
     ]
    }
   ],
   "source": [
    "print(a)"
   ]
  },
  {
   "cell_type": "code",
   "execution_count": 190,
   "id": "5e06f52b",
   "metadata": {},
   "outputs": [],
   "source": [
    "a=a.reshape((8,1))\n",
    "# a.T"
   ]
  },
  {
   "cell_type": "code",
   "execution_count": 191,
   "id": "0fa2c5ff",
   "metadata": {},
   "outputs": [
    {
     "name": "stdout",
     "output_type": "stream",
     "text": [
      "[[ 1]\n",
      " [ 2]\n",
      " [ 3]\n",
      " [ 4]\n",
      " [ 1]\n",
      " [ 4]\n",
      " [ 9]\n",
      " [16]]\n"
     ]
    }
   ],
   "source": [
    "print(a)"
   ]
  },
  {
   "cell_type": "code",
   "execution_count": 192,
   "id": "8b83790f",
   "metadata": {},
   "outputs": [],
   "source": [
    "a=a.reshape((8,))"
   ]
  },
  {
   "cell_type": "code",
   "execution_count": 193,
   "id": "09c851d4",
   "metadata": {},
   "outputs": [
    {
     "name": "stdout",
     "output_type": "stream",
     "text": [
      "[ 1  2  3  4  1  4  9 16]\n"
     ]
    }
   ],
   "source": [
    "print(a)"
   ]
  },
  {
   "cell_type": "code",
   "execution_count": 194,
   "id": "6e5b087d",
   "metadata": {},
   "outputs": [],
   "source": [
    "q=np.arange(10)+5"
   ]
  },
  {
   "cell_type": "code",
   "execution_count": 195,
   "id": "40a56d3f",
   "metadata": {},
   "outputs": [
    {
     "name": "stdout",
     "output_type": "stream",
     "text": [
      "[ 5  6  7  8  9 10 11 12 13 14]\n"
     ]
    }
   ],
   "source": [
    "print(q)"
   ]
  },
  {
   "cell_type": "code",
   "execution_count": 196,
   "id": "030613c9",
   "metadata": {},
   "outputs": [],
   "source": [
    "#random"
   ]
  },
  {
   "cell_type": "code",
   "execution_count": 197,
   "id": "46936890",
   "metadata": {},
   "outputs": [],
   "source": [
    "np.random.shuffle(q)"
   ]
  },
  {
   "cell_type": "code",
   "execution_count": 198,
   "id": "59e18d81",
   "metadata": {},
   "outputs": [
    {
     "name": "stdout",
     "output_type": "stream",
     "text": [
      "[10 11  5  8 14  7 13 12  6  9]\n"
     ]
    }
   ],
   "source": [
    "print(q)"
   ]
  },
  {
   "cell_type": "code",
   "execution_count": 199,
   "id": "1eea136d",
   "metadata": {},
   "outputs": [],
   "source": [
    "a=np.random.randint(5,10,3)"
   ]
  },
  {
   "cell_type": "code",
   "execution_count": 200,
   "id": "fa60071c",
   "metadata": {},
   "outputs": [
    {
     "name": "stdout",
     "output_type": "stream",
     "text": [
      "[9 8 5]\n"
     ]
    }
   ],
   "source": [
    "print(a)"
   ]
  },
  {
   "cell_type": "code",
   "execution_count": 201,
   "id": "c03f677c",
   "metadata": {},
   "outputs": [],
   "source": [
    "#randompy pick element"
   ]
  },
  {
   "cell_type": "code",
   "execution_count": 202,
   "id": "1531842e",
   "metadata": {},
   "outputs": [],
   "source": [
    "element=np.random.choice([1,4,3,2,11])"
   ]
  },
  {
   "cell_type": "code",
   "execution_count": 203,
   "id": "b6b7e2a1",
   "metadata": {},
   "outputs": [
    {
     "name": "stdout",
     "output_type": "stream",
     "text": [
      "3\n"
     ]
    }
   ],
   "source": [
    "print(element)"
   ]
  },
  {
   "cell_type": "code",
   "execution_count": 204,
   "id": "01f34e05",
   "metadata": {},
   "outputs": [],
   "source": [
    "#numpy functions"
   ]
  },
  {
   "cell_type": "code",
   "execution_count": 205,
   "id": "5f6bc4b7",
   "metadata": {},
   "outputs": [
    {
     "name": "stdout",
     "output_type": "stream",
     "text": [
      "5\n"
     ]
    }
   ],
   "source": [
    "print(min(q))"
   ]
  },
  {
   "cell_type": "code",
   "execution_count": 206,
   "id": "ee2e8bc5",
   "metadata": {},
   "outputs": [],
   "source": [
    "m=np.mean(q)"
   ]
  },
  {
   "cell_type": "code",
   "execution_count": 207,
   "id": "5a43d646",
   "metadata": {},
   "outputs": [
    {
     "name": "stdout",
     "output_type": "stream",
     "text": [
      "9.5\n"
     ]
    }
   ],
   "source": [
    "print(m)"
   ]
  },
  {
   "cell_type": "code",
   "execution_count": 208,
   "id": "20a20f53",
   "metadata": {},
   "outputs": [
    {
     "name": "stdout",
     "output_type": "stream",
     "text": [
      "9.5\n"
     ]
    }
   ],
   "source": [
    "print(np.median(q))"
   ]
  },
  {
   "cell_type": "code",
   "execution_count": 209,
   "id": "dd4bb995",
   "metadata": {},
   "outputs": [],
   "source": [
    "#standard deviation"
   ]
  },
  {
   "cell_type": "code",
   "execution_count": 210,
   "id": "1295eb15",
   "metadata": {},
   "outputs": [],
   "source": [
    "u=np.mean(q)"
   ]
  },
  {
   "cell_type": "code",
   "execution_count": 211,
   "id": "61145ffd",
   "metadata": {},
   "outputs": [],
   "source": [
    "mystd=np.sqrt(np.mean(abs(q-u)**2))"
   ]
  },
  {
   "cell_type": "code",
   "execution_count": 212,
   "id": "2389c706",
   "metadata": {},
   "outputs": [
    {
     "name": "stdout",
     "output_type": "stream",
     "text": [
      "2.8722813232690143\n"
     ]
    }
   ],
   "source": [
    "print(mystd)"
   ]
  },
  {
   "cell_type": "code",
   "execution_count": 213,
   "id": "c42d9951",
   "metadata": {},
   "outputs": [
    {
     "name": "stdout",
     "output_type": "stream",
     "text": [
      "2.8722813232690143\n"
     ]
    }
   ],
   "source": [
    "print(np.std(q))"
   ]
  },
  {
   "cell_type": "code",
   "execution_count": 214,
   "id": "93f1136f",
   "metadata": {},
   "outputs": [
    {
     "name": "stdout",
     "output_type": "stream",
     "text": [
      "8.25\n"
     ]
    }
   ],
   "source": [
    "print(np.var(q))"
   ]
  },
  {
   "cell_type": "code",
   "execution_count": 228,
   "id": "23032835",
   "metadata": {},
   "outputs": [],
   "source": [
    "w=np.array([\n",
    "    [2,2],\n",
    "    [3,4]\n",
    "])"
   ]
  },
  {
   "cell_type": "code",
   "execution_count": 229,
   "id": "84229ecb",
   "metadata": {},
   "outputs": [
    {
     "name": "stdout",
     "output_type": "stream",
     "text": [
      "[[2 2]\n",
      " [3 4]]\n"
     ]
    }
   ],
   "source": [
    "print(w)"
   ]
  },
  {
   "cell_type": "code",
   "execution_count": 230,
   "id": "9d714863",
   "metadata": {},
   "outputs": [],
   "source": [
    "# w.T"
   ]
  },
  {
   "cell_type": "code",
   "execution_count": 231,
   "id": "d35e27ea",
   "metadata": {},
   "outputs": [],
   "source": [
    "x=np.array([4,4])"
   ]
  },
  {
   "cell_type": "code",
   "execution_count": 232,
   "id": "8c905658",
   "metadata": {},
   "outputs": [
    {
     "name": "stdout",
     "output_type": "stream",
     "text": [
      "[[6 6]\n",
      " [7 8]]\n"
     ]
    }
   ],
   "source": [
    "print(w+x)"
   ]
  },
  {
   "cell_type": "code",
   "execution_count": null,
   "id": "ba6c2831",
   "metadata": {},
   "outputs": [],
   "source": []
  },
  {
   "cell_type": "code",
   "execution_count": null,
   "id": "f770baef",
   "metadata": {},
   "outputs": [],
   "source": []
  },
  {
   "cell_type": "code",
   "execution_count": null,
   "id": "0cd6cbbe",
   "metadata": {},
   "outputs": [],
   "source": []
  }
 ],
 "metadata": {
  "kernelspec": {
   "display_name": "Python 3 (ipykernel)",
   "language": "python",
   "name": "python3"
  },
  "language_info": {
   "codemirror_mode": {
    "name": "ipython",
    "version": 3
   },
   "file_extension": ".py",
   "mimetype": "text/x-python",
   "name": "python",
   "nbconvert_exporter": "python",
   "pygments_lexer": "ipython3",
   "version": "3.11.1"
  }
 },
 "nbformat": 4,
 "nbformat_minor": 5
}
