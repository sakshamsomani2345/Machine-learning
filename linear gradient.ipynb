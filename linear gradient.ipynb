{
 "cells": [
  {
   "cell_type": "code",
   "execution_count": 12,
   "id": "b16581d0",
   "metadata": {},
   "outputs": [],
   "source": [
    "import numpy as np;\n",
    "import pandas as pd\n",
    "import matplotlib.pyplot as plt"
   ]
  },
  {
   "cell_type": "code",
   "execution_count": 13,
   "id": "b408fe5c",
   "metadata": {},
   "outputs": [],
   "source": [
    "def hypothesis(x,theta):\n",
    "    y_=theta[0]+theta[1]*x\n",
    "    return y_"
   ]
  },
  {
   "cell_type": "code",
   "execution_count": 14,
   "id": "fd79dec6",
   "metadata": {},
   "outputs": [],
   "source": [
    "def gradient(X,Y,theta):\n",
    "    m=X.shape[0]\n",
    "    grad=np.zeros((2,))\n",
    "    for i in range(m):\n",
    "        y_=hypothesis(X[i],theta)\n",
    "        y=Y[i]\n",
    "        grad[0]+=y_-y\n",
    "        grad[1]+=(y_-y)*X[i]\n",
    "    return grad/m;"
   ]
  },
  {
   "cell_type": "code",
   "execution_count": 15,
   "id": "f68d1fed",
   "metadata": {},
   "outputs": [],
   "source": [
    "def gradientdesent(X,Y,maxsteps=100,lr=0.1):\n",
    "    \n",
    "    theta=np.zeros((2,))\n",
    "    errorlist=[]\n",
    "    for i in range (maxsteps):\n",
    "        grad=gradient(X,Y,theta)\n",
    "        e=error(X,Y,theta)\n",
    "        errorlist.append(e)\n",
    "        theta[0]=theta[0]-lr*grad[0]\n",
    "        theta[1]=theta[1]-lr*grad[1]\n",
    "        \n",
    "    return theta,errorlist;\n",
    "    "
   ]
  },
  {
   "cell_type": "code",
   "execution_count": 16,
   "id": "f6d663fe",
   "metadata": {},
   "outputs": [],
   "source": [
    "def error(X,Y,theta):\n",
    "    m=X.shape[0]# compute hypothesis\n",
    "    totalerror=0.0\n",
    "    for i in range (m):\n",
    "        y_hypothesis(X[i],theta)\n",
    "        totalerror+=(y_-Y[i])**2\n",
    "    return totalerror/m;"
   ]
  },
  {
   "cell_type": "code",
   "execution_count": 17,
   "id": "159794cc",
   "metadata": {},
   "outputs": [
    {
     "ename": "NameError",
     "evalue": "name 'X' is not defined",
     "output_type": "error",
     "traceback": [
      "\u001b[1;31m---------------------------------------------------------------------------\u001b[0m",
      "\u001b[1;31mNameError\u001b[0m                                 Traceback (most recent call last)",
      "Cell \u001b[1;32mIn[17], line 1\u001b[0m\n\u001b[1;32m----> 1\u001b[0m y_\u001b[38;5;241m=\u001b[39mhypothesis(\u001b[43mX\u001b[49m,theta)\n",
      "\u001b[1;31mNameError\u001b[0m: name 'X' is not defined"
     ]
    }
   ],
   "source": [
    "y_=hypothesis(X,theta)"
   ]
  },
  {
   "cell_type": "code",
   "execution_count": null,
   "id": "30bdcc07",
   "metadata": {},
   "outputs": [],
   "source": [
    "def r2score(Y,y_):\n",
    "    num=np.sum((Y-y-)**2)\n",
    "    denom=np.sum((Y-Y.mean())**2)\n",
    "    score =(1-num/denom)\n",
    "    return score *100"
   ]
  }
 ],
 "metadata": {
  "kernelspec": {
   "display_name": "Python 3 (ipykernel)",
   "language": "python",
   "name": "python3"
  },
  "language_info": {
   "codemirror_mode": {
    "name": "ipython",
    "version": 3
   },
   "file_extension": ".py",
   "mimetype": "text/x-python",
   "name": "python",
   "nbconvert_exporter": "python",
   "pygments_lexer": "ipython3",
   "version": "3.11.1"
  }
 },
 "nbformat": 4,
 "nbformat_minor": 5
}
