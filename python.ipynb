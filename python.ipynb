{
 "cells": [
  {
   "cell_type": "code",
   "execution_count": 1,
   "id": "5a2bed9a",
   "metadata": {},
   "outputs": [
    {
     "name": "stdout",
     "output_type": "stream",
     "text": [
      "5\n"
     ]
    }
   ],
   "source": [
    "print(5)"
   ]
  },
  {
   "cell_type": "code",
   "execution_count": 3,
   "id": "6e69f7f7",
   "metadata": {},
   "outputs": [
    {
     "name": "stdout",
     "output_type": "stream",
     "text": [
      "true\n"
     ]
    }
   ],
   "source": [
    "a=11\n",
    "if(a>10):\n",
    "    print(\"true\")\n",
    "else:\n",
    "    print(\"false\")"
   ]
  },
  {
   "cell_type": "code",
   "execution_count": 4,
   "id": "ded125c4",
   "metadata": {},
   "outputs": [
    {
     "name": "stdout",
     "output_type": "stream",
     "text": [
      "2\n",
      "3\n",
      "4\n",
      "5\n",
      "6\n",
      "7\n",
      "8\n",
      "9\n"
     ]
    }
   ],
   "source": [
    "for i in range(2,10):\n",
    "    print(i)"
   ]
  },
  {
   "cell_type": "code",
   "execution_count": 6,
   "id": "0be76145",
   "metadata": {},
   "outputs": [],
   "source": [
    "x=[1,2,3,4];"
   ]
  },
  {
   "cell_type": "code",
   "execution_count": 7,
   "id": "be8abeb8",
   "metadata": {},
   "outputs": [
    {
     "name": "stdout",
     "output_type": "stream",
     "text": [
      "[1, 2, 3, 4]\n"
     ]
    }
   ],
   "source": [
    "print(x)"
   ]
  },
  {
   "cell_type": "code",
   "execution_count": 12,
   "id": "4ea88f21",
   "metadata": {},
   "outputs": [
    {
     "name": "stdout",
     "output_type": "stream",
     "text": [
      "4\n"
     ]
    }
   ],
   "source": [
    "print(len(x));"
   ]
  },
  {
   "cell_type": "code",
   "execution_count": 13,
   "id": "a6677086",
   "metadata": {},
   "outputs": [
    {
     "data": {
      "text/plain": [
       "[1, 2, 3, 4, 1, 2, 3, 4]"
      ]
     },
     "execution_count": 13,
     "metadata": {},
     "output_type": "execute_result"
    }
   ],
   "source": [
    "x+x"
   ]
  },
  {
   "cell_type": "code",
   "execution_count": 14,
   "id": "33c5aa62",
   "metadata": {},
   "outputs": [
    {
     "data": {
      "text/plain": [
       "True"
      ]
     },
     "execution_count": 14,
     "metadata": {},
     "output_type": "execute_result"
    }
   ],
   "source": [
    "4 in x"
   ]
  },
  {
   "cell_type": "code",
   "execution_count": 16,
   "id": "d13f8d18",
   "metadata": {},
   "outputs": [
    {
     "name": "stdout",
     "output_type": "stream",
     "text": [
      "3\n"
     ]
    }
   ],
   "source": [
    "print(x[-2])"
   ]
  },
  {
   "cell_type": "code",
   "execution_count": 27,
   "id": "14a68416",
   "metadata": {},
   "outputs": [],
   "source": [
    "##dunders"
   ]
  },
  {
   "cell_type": "code",
   "execution_count": 10,
   "id": "00ce8b0d",
   "metadata": {},
   "outputs": [
    {
     "name": "stdout",
     "output_type": "stream",
     "text": [
      "saksham\n",
      "hello world kndsvn\n",
      "hello world kndsvn\n"
     ]
    }
   ],
   "source": [
    "class hello:\n",
    "    def __init__(self,name):\n",
    "        print(name)\n",
    "    name=\"kndsvn\"\n",
    "    def hi(self):\n",
    "        print(\"hello world\",self.name)\n",
    "\n",
    "x=hello(\"saksham\");\n",
    "x.hi()\n",
    "hello.hi(x)\n",
    "    "
   ]
  },
  {
   "cell_type": "code",
   "execution_count": 11,
   "id": "decd6265",
   "metadata": {},
   "outputs": [],
   "source": [
    "class car:\n",
    "    def __init__(self,model,mileage):\n",
    "        self.model=model\n",
    "        self.mileage=mileage\n",
    "    def __eq__(self,other):\n",
    "        return self.mileage==other.mileage"
   ]
  },
  {
   "cell_type": "code",
   "execution_count": 24,
   "id": "9b0ce162",
   "metadata": {},
   "outputs": [],
   "source": [
    "c1=car(\"a\",2)\n",
    "c2=car(\"b\",3)\n"
   ]
  },
  {
   "cell_type": "code",
   "execution_count": 25,
   "id": "54e5be8d",
   "metadata": {},
   "outputs": [
    {
     "data": {
      "text/plain": [
       "False"
      ]
     },
     "execution_count": 25,
     "metadata": {},
     "output_type": "execute_result"
    }
   ],
   "source": [
    "c1==c2"
   ]
  },
  {
   "cell_type": "code",
   "execution_count": 41,
   "id": "8e8a2000",
   "metadata": {},
   "outputs": [],
   "source": [
    "class Dog:\n",
    "    kind='canine'\n",
    "    def __init__(self,name):\n",
    "        self.name=name"
   ]
  },
  {
   "cell_type": "code",
   "execution_count": null,
   "id": "d0af85ca",
   "metadata": {},
   "outputs": [],
   "source": []
  },
  {
   "cell_type": "code",
   "execution_count": 42,
   "id": "e79f7d73",
   "metadata": {},
   "outputs": [],
   "source": [
    "# a=Dog()\n",
    "# a.kind"
   ]
  },
  {
   "cell_type": "code",
   "execution_count": 53,
   "id": "58145ea2",
   "metadata": {},
   "outputs": [],
   "source": [
    "\n",
    "class Dog:\n",
    "    \n",
    "    tricks=[]\n",
    "    def __init__(self,name):\n",
    "        self.name=name\n",
    "    def add_trick(self,trick):\n",
    "        self.tricks.append(trick)"
   ]
  },
  {
   "cell_type": "code",
   "execution_count": 54,
   "id": "37822a33",
   "metadata": {},
   "outputs": [],
   "source": [
    "a=Dog(\"brunio\")\n",
    "b=Dog(\"maxxx\")"
   ]
  },
  {
   "cell_type": "code",
   "execution_count": 55,
   "id": "f835e177",
   "metadata": {},
   "outputs": [],
   "source": [
    "a.add_trick(\"fetch\")"
   ]
  },
  {
   "cell_type": "code",
   "execution_count": 56,
   "id": "bf337b61",
   "metadata": {},
   "outputs": [],
   "source": [
    "a.add_trick(\"talk\")\n"
   ]
  },
  {
   "cell_type": "code",
   "execution_count": 57,
   "id": "2e3b7595",
   "metadata": {},
   "outputs": [
    {
     "data": {
      "text/plain": [
       "['fetch', 'talk']"
      ]
     },
     "execution_count": 57,
     "metadata": {},
     "output_type": "execute_result"
    }
   ],
   "source": [
    "a.tricks"
   ]
  },
  {
   "cell_type": "code",
   "execution_count": 58,
   "id": "a9c754b8",
   "metadata": {},
   "outputs": [
    {
     "data": {
      "text/plain": [
       "['fetch', 'talk']"
      ]
     },
     "execution_count": 58,
     "metadata": {},
     "output_type": "execute_result"
    }
   ],
   "source": [
    "b.tricks"
   ]
  },
  {
   "cell_type": "code",
   "execution_count": 62,
   "id": "e2f68bc1",
   "metadata": {},
   "outputs": [
    {
     "data": {
      "text/plain": [
       "2276137601856"
      ]
     },
     "execution_count": 62,
     "metadata": {},
     "output_type": "execute_result"
    }
   ],
   "source": [
    "id(a.tricks)\n",
    "id(a.tricks)\n"
   ]
  },
  {
   "cell_type": "code",
   "execution_count": 63,
   "id": "b66e1ccb",
   "metadata": {},
   "outputs": [
    {
     "data": {
      "text/plain": [
       "2276137601856"
      ]
     },
     "execution_count": 63,
     "metadata": {},
     "output_type": "execute_result"
    }
   ],
   "source": [
    "id(Dog.tricks)\n"
   ]
  },
  {
   "cell_type": "code",
   "execution_count": 64,
   "id": "0fe72956",
   "metadata": {},
   "outputs": [],
   "source": [
    "#iterators"
   ]
  },
  {
   "cell_type": "code",
   "execution_count": 75,
   "id": "f29ef89f",
   "metadata": {},
   "outputs": [],
   "source": [
    "class yrange:\n",
    "    def __init__(self,n):\n",
    "        self.i=0;\n",
    "        self.n=n;\n",
    "        #this is used to make class iterable\n",
    "    def __iter__(self):\n",
    "        return self\n",
    "    def __next__(self):\n",
    "        if self.i<self.n:\n",
    "            i=self.i\n",
    "            self.i+=1\n",
    "            return i\n",
    "        else:\n",
    "            raise StopIteration()"
   ]
  },
  {
   "cell_type": "raw",
   "id": "6d0fab13",
   "metadata": {},
   "source": []
  },
  {
   "cell_type": "code",
   "execution_count": 76,
   "id": "16ef751e",
   "metadata": {},
   "outputs": [
    {
     "name": "stdout",
     "output_type": "stream",
     "text": [
      "0\n",
      "1\n",
      "2\n",
      "3\n",
      "4\n"
     ]
    }
   ],
   "source": [
    "for x in yrange(5):\n",
    "    print(x)"
   ]
  },
  {
   "cell_type": "code",
   "execution_count": null,
   "id": "0f716112",
   "metadata": {},
   "outputs": [],
   "source": []
  },
  {
   "cell_type": "code",
   "execution_count": null,
   "id": "53c67649",
   "metadata": {},
   "outputs": [],
   "source": []
  },
  {
   "cell_type": "code",
   "execution_count": null,
   "id": "80abf91e",
   "metadata": {},
   "outputs": [],
   "source": []
  },
  {
   "cell_type": "code",
   "execution_count": null,
   "id": "4bb2ff61",
   "metadata": {},
   "outputs": [],
   "source": []
  },
  {
   "cell_type": "code",
   "execution_count": null,
   "id": "6b97c94f",
   "metadata": {},
   "outputs": [],
   "source": []
  },
  {
   "cell_type": "code",
   "execution_count": null,
   "id": "a751d472",
   "metadata": {},
   "outputs": [],
   "source": []
  },
  {
   "cell_type": "code",
   "execution_count": null,
   "id": "dd0ad86f",
   "metadata": {},
   "outputs": [],
   "source": []
  },
  {
   "cell_type": "code",
   "execution_count": null,
   "id": "77958cf8",
   "metadata": {},
   "outputs": [],
   "source": []
  },
  {
   "cell_type": "code",
   "execution_count": null,
   "id": "2fcc6744",
   "metadata": {},
   "outputs": [],
   "source": []
  },
  {
   "cell_type": "code",
   "execution_count": null,
   "id": "4b2bde35",
   "metadata": {},
   "outputs": [],
   "source": []
  },
  {
   "cell_type": "code",
   "execution_count": null,
   "id": "7f4e6a47",
   "metadata": {},
   "outputs": [],
   "source": []
  },
  {
   "cell_type": "code",
   "execution_count": null,
   "id": "6e2ea465",
   "metadata": {},
   "outputs": [],
   "source": []
  },
  {
   "cell_type": "code",
   "execution_count": null,
   "id": "496123ef",
   "metadata": {},
   "outputs": [],
   "source": []
  },
  {
   "cell_type": "code",
   "execution_count": null,
   "id": "bd0a3087",
   "metadata": {},
   "outputs": [],
   "source": []
  },
  {
   "cell_type": "code",
   "execution_count": null,
   "id": "3711b27a",
   "metadata": {},
   "outputs": [],
   "source": []
  }
 ],
 "metadata": {
  "kernelspec": {
   "display_name": "Python 3 (ipykernel)",
   "language": "python",
   "name": "python3"
  },
  "language_info": {
   "codemirror_mode": {
    "name": "ipython",
    "version": 3
   },
   "file_extension": ".py",
   "mimetype": "text/x-python",
   "name": "python",
   "nbconvert_exporter": "python",
   "pygments_lexer": "ipython3",
   "version": "3.11.1"
  }
 },
 "nbformat": 4,
 "nbformat_minor": 5
}
